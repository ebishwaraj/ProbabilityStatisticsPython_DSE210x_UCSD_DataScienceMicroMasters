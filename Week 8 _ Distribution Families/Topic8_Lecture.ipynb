{
 "cells": [
  {
   "cell_type": "markdown",
   "metadata": {
    "collapsed": true,
    "slideshow": {
     "slide_type": "slide"
    }
   },
   "source": [
    "# 8. Discrete Probability Distributions"
   ]
  },
  {
   "cell_type": "markdown",
   "metadata": {},
   "source": [
    "We use `scipy.stats` to demonstrate the pdf, cdf, and sampling from several distribution families. First we import a few helpful libraries. "
   ]
  },
  {
   "cell_type": "code",
   "execution_count": 1,
   "metadata": {},
   "outputs": [],
   "source": [
    "from scipy.stats import bernoulli, binom, poisson\n",
    "import matplotlib.pyplot as plt\n",
    "import numpy as np\n",
    "import ipywidgets as widgets\n",
    "\n",
    "# Properties for plots\n",
    "plt.style.use([{\n",
    "    \"figure.figsize\":(12,9), # Figure size\n",
    "    \"xtick.labelsize\": \"large\", # Font size of the X-ticks\n",
    "    \"ytick.labelsize\": \"large\", # Font size of the Y-ticks\n",
    "    \"legend.fontsize\": \"x-large\", # Font size of the legend\n",
    "    \"axes.labelsize\": \"x-large\", # Font size of labels\n",
    "    \"axes.titlesize\": \"xx-large\", # Font size of title\n",
    "    \"axes.spines.top\": False,\n",
    "    \"axes.spines.right\": False,\n",
    "},'seaborn-poster'])"
   ]
  },
  {
   "cell_type": "markdown",
   "metadata": {},
   "source": [
    "## 8.1 Bernoulli"
   ]
  },
  {
   "cell_type": "markdown",
   "metadata": {
    "collapsed": true
   },
   "source": [
    "Let's explore the basic methods for a Bernoulli random variable. "
   ]
  },
  {
   "cell_type": "code",
   "execution_count": 2,
   "metadata": {},
   "outputs": [
    {
     "name": "stdout",
     "output_type": "stream",
     "text": [
      "0.7000000000000001\n"
     ]
    }
   ],
   "source": [
    "print(bernoulli.pmf(0,p=.3))"
   ]
  },
  {
   "cell_type": "code",
   "execution_count": 3,
   "metadata": {},
   "outputs": [
    {
     "name": "stdout",
     "output_type": "stream",
     "text": [
      "[0.7 0.3 0. ]\n"
     ]
    }
   ],
   "source": [
    "print(bernoulli.pmf(range(3),p=.3))"
   ]
  },
  {
   "cell_type": "code",
   "execution_count": 14,
   "metadata": {},
   "outputs": [
    {
     "name": "stdout",
     "output_type": "stream",
     "text": [
      "[0.7 0.7 1.  1. ]\n"
     ]
    }
   ],
   "source": [
    "print(bernoulli.cdf([0,.5,1,1.5],p=.3))"
   ]
  },
  {
   "cell_type": "markdown",
   "metadata": {},
   "source": [
    "Next plot the pdf and cdf. For simplicity we are omitting labels and legend, we will see how to plot them in the next subsection. "
   ]
  },
  {
   "cell_type": "code",
   "execution_count": 2,
   "metadata": {},
   "outputs": [
    {
     "name": "stderr",
     "output_type": "stream",
     "text": [
      "C:\\Users\\bishw\\Anaconda3\\lib\\site-packages\\ipykernel_launcher.py:1: UserWarning: In Matplotlib 3.3 individual lines on a stem plot will be added as a LineCollection instead of individual lines. This significantly improves the performance of a stem plot. To remove this warning and switch to the new behaviour, set the \"use_line_collection\" keyword argument to True.\n",
      "  \"\"\"Entry point for launching an IPython kernel.\n"
     ]
    },
    {
     "data": {
      "image/png": "[encoded data removed]",
      "text/plain": [
       "<Figure size 432x288 with 1 Axes>"
      ]
     },
     "metadata": {
      "needs_background": "light"
     },
     "output_type": "display_data"
    }
   ],
   "source": [
    "plt.stem([-0.2,0,1,1.2],bernoulli.pmf([-0.2,0,1,1.2],p=.3))\n",
    "plt.plot(np.linspace(-0.1,1.1,1200),bernoulli.cdf(np.linspace(-0.1,1.1,1200),p=0.3),'g')\n",
    "plt.xlim([-0.1,1.1])\n",
    "plt.ylim([-0.2,1.1])\n",
    "plt.show()"
   ]
  },
  {
   "cell_type": "markdown",
   "metadata": {},
   "source": [
    "Next we generate and then plot Bernoulli samples."
   ]
  },
  {
   "cell_type": "code",
   "execution_count": 16,
   "metadata": {},
   "outputs": [
    {
     "name": "stdout",
     "output_type": "stream",
     "text": [
      "[0 1 0 0 0 1 1 0 0 0]\n"
     ]
    }
   ],
   "source": [
    "print(bernoulli.rvs(size=10,p=0.3))"
   ]
  },
  {
   "cell_type": "code",
   "execution_count": 17,
   "metadata": {},
   "outputs": [
    {
     "name": "stderr",
     "output_type": "stream",
     "text": [
      "/home/peterliang/anaconda3/lib/python3.6/site-packages/matplotlib/axes/_axes.py:6571: UserWarning: The 'normed' kwarg is deprecated, and has been replaced by the 'density' kwarg.\n",
      "  warnings.warn(\"The 'normed' kwarg is deprecated, and has been \"\n"
     ]
    },
    {
     "data": {
      "image/png": "[encoded data removed]",
      "text/plain": [
       "<Figure size 432x288 with 1 Axes>"
      ]
     },
     "metadata": {
      "needs_background": "light"
     },
     "output_type": "display_data"
    }
   ],
   "source": [
    "plt.hist(bernoulli.rvs(size=10,p=0.3),normed=True)\n",
    "plt.show()"
   ]
  },
  {
   "cell_type": "markdown",
   "metadata": {},
   "source": [
    "## 8.2 Binomial"
   ]
  },
  {
   "cell_type": "markdown",
   "metadata": {},
   "source": [
    "You can calculate the pdf and cdf of the Binomial distribution the same way we did for Bernoulli, just replace `bernoulli.pmf` by `binom.pmf` etc. and including the appropriate arguments. Here is one example."
   ]
  },
  {
   "cell_type": "code",
   "execution_count": 3,
   "metadata": {},
   "outputs": [
    {
     "name": "stdout",
     "output_type": "stream",
     "text": [
      "[13  7 10  7  7  4 10 11 10  5  5  4  9 10  6  7  9  6  8  8 11  5  9  6\n",
      "  7 10 10 12  9  6  9  8  5  8 11  9  7  8  3  8 13  5  7  8 11  6  9  6\n",
      " 10 14]\n"
     ]
    }
   ],
   "source": [
    "print(binom.rvs(size=50,n=20, p=0.4))"
   ]
  },
  {
   "cell_type": "markdown",
   "metadata": {
    "slideshow": {
     "slide_type": "slide"
    }
   },
   "source": [
    "The following code plots the probability mass function (PMF) of $B_{p,n}$, the binomial distribution with parameters $p$ and $n$. It contains interactive sliders that you can use to vary $n$ over the interval $[0,30]$ and $p$ over the interval $[0, 1]$."
   ]
  },
  {
   "cell_type": "code",
   "execution_count": 4,
   "metadata": {},
   "outputs": [
    {
     "data": {
      "application/vnd.jupyter.widget-view+json": {
       "model_id": "9668604fb61e4eca9a143a3e624249d4",
       "version_major": 2,
       "version_minor": 0
      },
      "text/plain": [
       "interactive(children=(IntSlider(value=15, description='n', max=30), FloatSlider(value=0.5, description='p', ma…"
      ]
     },
     "metadata": {},
     "output_type": "display_data"
    }
   ],
   "source": [
    "@widgets.interact(n=(0,30),p=(0.0,1.0),samples=(1,1000), continuous_update=False)\n",
    "def plot_pmf(n, p,samples=100,histogram=False):\n",
    "    '''\n",
    "    Plot the probability mass function of Binom(n, p)\n",
    "    '''\n",
    "    k = np.arange(0, n + 1)\n",
    "    P_binom = binom.pmf(k, n, p)\n",
    "    # This plots a bar plot\n",
    "    # plt.bar(k, P_binom,color='b')\n",
    "    plt.plot(k, P_binom, '-o', color='r')\n",
    "    if histogram:\n",
    "        height,y = np.histogram(binom.rvs(size=samples,n=n,p=p),range=(0,n),bins=n+1,normed=True)\n",
    "        plt.bar(k,height,color='r')\n",
    "    plt.title('PMF of Bin(%i, %.2f)' % (n, p))\n",
    "    plt.xlabel('k')\n",
    "    plt.ylabel('$B_{20,0.3}(k)$')\n",
    "    plt.show()"
   ]
  },
  {
   "cell_type": "markdown",
   "metadata": {},
   "source": [
    "## 8.3 Poisson"
   ]
  },
  {
   "cell_type": "markdown",
   "metadata": {
    "collapsed": true
   },
   "source": [
    "### 8.3.1 PMF\n",
    "We follow the same procedure to plot the Poisson PMF."
   ]
  },
  {
   "cell_type": "code",
   "execution_count": 5,
   "metadata": {},
   "outputs": [
    {
     "data": {
      "application/vnd.jupyter.widget-view+json": {
       "model_id": "9faa2f9dbb7141f59dcd610d044b3e9c",
       "version_major": 2,
       "version_minor": 0
      },
      "text/plain": [
       "interactive(children=(IntSlider(value=25, description='n', max=50), FloatSlider(value=15.0, description='λ', m…"
      ]
     },
     "metadata": {},
     "output_type": "display_data"
    }
   ],
   "source": [
    "@widgets.interact(n=(0,50),samples=(1,1000),λ=(0.0,30.0))\n",
    "def f(n, λ, samples=100,histogram=False):\n",
    "    k = np.arange(0, n+1)\n",
    "    P_poisson = poisson.pmf(k, λ)\n",
    "    plt.plot(k, P_poisson, '-o')\n",
    "    if histogram:\n",
    "        height,y = np.histogram(poisson.rvs(size=samples,mu=λ),range=(0,n),bins=n+1,normed=True)\n",
    "        plt.bar(k,height,color='r')\n",
    "    plt.title('PMF of Poisson(%i)' %λ)\n",
    "    plt.xlabel('Number of Events')\n",
    "    plt.ylabel('Probability of Number of Events')\n",
    "    plt.show()"
   ]
  },
  {
   "cell_type": "markdown",
   "metadata": {},
   "source": [
    "### 8.3.2 Poisson Approximation of the Binomial Distribution\n",
    "Observe how well Poisson$(np)$ approximates Binomial$(n, p)$ for small values of $p$."
   ]
  },
  {
   "cell_type": "code",
   "execution_count": 6,
   "metadata": {},
   "outputs": [
    {
     "data": {
      "application/vnd.jupyter.widget-view+json": {
       "model_id": "bc1aefd6625c4e43b8cd9f5f64e5f3f7",
       "version_major": 2,
       "version_minor": 0
      },
      "text/plain": [
       "interactive(children=(IntSlider(value=501, description='n', max=1000, min=2), FloatSlider(value=0.1, descripti…"
      ]
     },
     "metadata": {},
     "output_type": "display_data"
    }
   ],
   "source": [
    "import numpy as np\n",
    "import matplotlib.pyplot as plt\n",
    "\n",
    "e = np.e\n",
    "@widgets.interact(n=(2,1000),p=(0.0,.2,0.001),continuous_update=False)\n",
    "def f(n, p):\n",
    "    k = np.arange(0, n+1)\n",
    "    x = np.linspace(0, n+1, 1000)\n",
    "    λ = n*p\n",
    "    stddev = λ**0.5\n",
    "    P_poisson = poisson.pmf(k, λ)\n",
    "    P_binom = binom.pmf(k, n, p)\n",
    "    plt.plot(k, P_poisson, 'r', label = \"Poisson(%0.2f)\" %λ)\n",
    "    plt.plot(k, P_binom, 'b-', label = \"Bin(%i, %0.2f)\" %(n,p))\n",
    "    plt.title('Poisson Approximation of Binomial')\n",
    "    plt.xlabel('n')\n",
    "    plt.ylabel('y')\n",
    "    plt.legend()\n",
    "    plt.show()\n",
    "    print('|| P_Poisson - P_Binomial ||\\u2081 = ',sum(abs(P_poisson-P_binom)))\n",
    "   "
   ]
  },
  {
   "cell_type": "markdown",
   "metadata": {},
   "source": [
    "## 8.4 Geometric Distribution\n",
    "### 8.4.1 PMF and CDF"
   ]
  },
  {
   "cell_type": "code",
   "execution_count": 7,
   "metadata": {},
   "outputs": [
    {
     "data": {
      "application/vnd.jupyter.widget-view+json": {
       "model_id": "f3fe9b32797e464bad11ef025fc779a9",
       "version_major": 2,
       "version_minor": 0
      },
      "text/plain": [
       "interactive(children=(IntSlider(value=100, description='n', max=200, min=1), FloatSlider(value=0.5, descriptio…"
      ]
     },
     "metadata": {},
     "output_type": "display_data"
    }
   ],
   "source": [
    "@widgets.interact(n=(1,200),p=(0.0,1.0))\n",
    "def f(n, p, CDF=False):\n",
    "    x = np.arange(1, n + 1)\n",
    "    y = [((1 - p)**(z - 1)) * p for z in x]\n",
    "    z = [(1 - (1 - p)**zz) for zz in x]\n",
    "    plt.plot(x, y, 'o-', label='PDF')\n",
    "    if CDF == True:\n",
    "        plt.plot(x, z, 'ro-', label='CDF')\n",
    "    if n == 1:\n",
    "        plt.plot([0, 1], [p, p], 'b')\n",
    "        plt.xticks([1])\n",
    "    plt.xlabel('n')\n",
    "    plt.ylabel('y')\n",
    "    plt.title('PMF of Geometric(%0.2f)' % p, fontsize=20)\n",
    "    plt.legend()\n",
    "    plt.show()"
   ]
  },
  {
   "cell_type": "code",
   "execution_count": null,
   "metadata": {
    "collapsed": true
   },
   "outputs": [],
   "source": []
  }
 ],
 "metadata": {
  "celltoolbar": "Raw Cell Format",
  "kernelspec": {
   "display_name": "Python 3",
   "language": "python",
   "name": "python3"
  },
  "language_info": {
   "codemirror_mode": {
    "name": "ipython",
    "version": 3
   },
   "file_extension": ".py",
   "mimetype": "text/x-python",
   "name": "python",
   "nbconvert_exporter": "python",
   "pygments_lexer": "ipython3",
   "version": "3.7.3"
  },
  "toc": {
   "base_numbering": 1,
   "nav_menu": {
    "height": "30px",
    "width": "252px"
   },
   "number_sections": true,
   "sideBar": true,
   "skip_h1_title": false,
   "title_cell": "Table of Contents",
   "title_sidebar": "Contents",
   "toc_cell": false,
   "toc_position": {},
   "toc_section_display": "block",
   "toc_window_display": false
  },
  "varInspector": {
   "cols": {
    "lenName": 16,
    "lenType": 16,
    "lenVar": 40
   },
   "kernels_config": {
    "python": {
     "delete_cmd_postfix": "",
     "delete_cmd_prefix": "del ",
     "library": "var_list.py",
     "varRefreshCmd": "print(var_dic_list())"
    },
    "r": {
     "delete_cmd_postfix": ") ",
     "delete_cmd_prefix": "rm(",
     "library": "var_list.r",
     "varRefreshCmd": "cat(var_dic_list()) "
    }
   },
   "types_to_exclude": [
    "module",
    "function",
    "builtin_function_or_method",
    "instance",
    "_Feature"
   ],
   "window_display": false
  },
  "widgets": {
   "state": {
    "41da8f3ef9334979af647714135e417f": {
     "views": [
      {
       "cell_index": 10
      }
     ]
    },
    "42415920558d47f2867a2086b9ee564c": {
     "views": [
      {
       "cell_index": 4
      }
     ]
    },
    "90e883c24e444103a75e99a9c16d0895": {
     "views": [
      {
       "cell_index": 16
      }
     ]
    }
   },
   "version": "1.2.0"
  }
 },
 "nbformat": 4,
 "nbformat_minor": 2
}
