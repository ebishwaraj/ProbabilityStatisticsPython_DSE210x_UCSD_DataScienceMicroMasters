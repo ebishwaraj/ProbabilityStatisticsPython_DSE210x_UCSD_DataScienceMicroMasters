{
 "cells": [
  {
   "cell_type": "code",
   "execution_count": 60,
   "metadata": {},
   "outputs": [],
   "source": [
    "import pandas as pd\n",
    "import numpy as np\n",
    "import matplotlib.pyplot as plt\n",
    "import scipy.stats as st\n",
    "from scipy.stats import t\n",
    "import math"
   ]
  },
  {
   "cell_type": "code",
   "execution_count": 65,
   "metadata": {},
   "outputs": [],
   "source": [
    "df = pd.read_csv(r\"temperature.csv\")"
   ]
  },
  {
   "cell_type": "code",
   "execution_count": 20,
   "metadata": {},
   "outputs": [
    {
     "data": {
      "text/html": [
       "<div>\n",
       "<style scoped>\n",
       "    .dataframe tbody tr th:only-of-type {\n",
       "        vertical-align: middle;\n",
       "    }\n",
       "\n",
       "    .dataframe tbody tr th {\n",
       "        vertical-align: top;\n",
       "    }\n",
       "\n",
       "    .dataframe thead th {\n",
       "        text-align: right;\n",
       "    }\n",
       "</style>\n",
       "<table border=\"1\" class=\"dataframe\">\n",
       "  <thead>\n",
       "    <tr style=\"text-align: right;\">\n",
       "      <th></th>\n",
       "      <th>datetime</th>\n",
       "      <th>Vancouver</th>\n",
       "      <th>Portland</th>\n",
       "      <th>San Francisco</th>\n",
       "      <th>Seattle</th>\n",
       "      <th>Los Angeles</th>\n",
       "      <th>San Diego</th>\n",
       "      <th>Las Vegas</th>\n",
       "      <th>Phoenix</th>\n",
       "      <th>Albuquerque</th>\n",
       "      <th>...</th>\n",
       "      <th>Philadelphia</th>\n",
       "      <th>New York</th>\n",
       "      <th>Montreal</th>\n",
       "      <th>Boston</th>\n",
       "      <th>Beersheba</th>\n",
       "      <th>Tel Aviv District</th>\n",
       "      <th>Eilat</th>\n",
       "      <th>Haifa</th>\n",
       "      <th>Nahariyya</th>\n",
       "      <th>Jerusalem</th>\n",
       "    </tr>\n",
       "  </thead>\n",
       "  <tbody>\n",
       "    <tr>\n",
       "      <th>0</th>\n",
       "      <td>2012-10-01 12:00:00</td>\n",
       "      <td>NaN</td>\n",
       "      <td>NaN</td>\n",
       "      <td>NaN</td>\n",
       "      <td>NaN</td>\n",
       "      <td>NaN</td>\n",
       "      <td>NaN</td>\n",
       "      <td>NaN</td>\n",
       "      <td>NaN</td>\n",
       "      <td>NaN</td>\n",
       "      <td>...</td>\n",
       "      <td>NaN</td>\n",
       "      <td>NaN</td>\n",
       "      <td>NaN</td>\n",
       "      <td>NaN</td>\n",
       "      <td>NaN</td>\n",
       "      <td>NaN</td>\n",
       "      <td>309.100000</td>\n",
       "      <td>NaN</td>\n",
       "      <td>NaN</td>\n",
       "      <td>NaN</td>\n",
       "    </tr>\n",
       "    <tr>\n",
       "      <th>1</th>\n",
       "      <td>2012-10-01 13:00:00</td>\n",
       "      <td>284.630000</td>\n",
       "      <td>282.080000</td>\n",
       "      <td>289.480000</td>\n",
       "      <td>281.800000</td>\n",
       "      <td>291.870000</td>\n",
       "      <td>291.530000</td>\n",
       "      <td>293.410000</td>\n",
       "      <td>296.600000</td>\n",
       "      <td>285.120000</td>\n",
       "      <td>...</td>\n",
       "      <td>285.630000</td>\n",
       "      <td>288.220000</td>\n",
       "      <td>285.830000</td>\n",
       "      <td>287.170000</td>\n",
       "      <td>307.590000</td>\n",
       "      <td>305.470000</td>\n",
       "      <td>310.580000</td>\n",
       "      <td>304.4</td>\n",
       "      <td>304.4</td>\n",
       "      <td>303.5</td>\n",
       "    </tr>\n",
       "    <tr>\n",
       "      <th>2</th>\n",
       "      <td>2012-10-01 14:00:00</td>\n",
       "      <td>284.629041</td>\n",
       "      <td>282.083252</td>\n",
       "      <td>289.474993</td>\n",
       "      <td>281.797217</td>\n",
       "      <td>291.868186</td>\n",
       "      <td>291.533501</td>\n",
       "      <td>293.403141</td>\n",
       "      <td>296.608509</td>\n",
       "      <td>285.154558</td>\n",
       "      <td>...</td>\n",
       "      <td>285.663208</td>\n",
       "      <td>288.247676</td>\n",
       "      <td>285.834650</td>\n",
       "      <td>287.186092</td>\n",
       "      <td>307.590000</td>\n",
       "      <td>304.310000</td>\n",
       "      <td>310.495769</td>\n",
       "      <td>304.4</td>\n",
       "      <td>304.4</td>\n",
       "      <td>303.5</td>\n",
       "    </tr>\n",
       "    <tr>\n",
       "      <th>3</th>\n",
       "      <td>2012-10-01 15:00:00</td>\n",
       "      <td>284.626998</td>\n",
       "      <td>282.091866</td>\n",
       "      <td>289.460618</td>\n",
       "      <td>281.789833</td>\n",
       "      <td>291.862844</td>\n",
       "      <td>291.543355</td>\n",
       "      <td>293.392177</td>\n",
       "      <td>296.631487</td>\n",
       "      <td>285.233952</td>\n",
       "      <td>...</td>\n",
       "      <td>285.756824</td>\n",
       "      <td>288.326940</td>\n",
       "      <td>285.847790</td>\n",
       "      <td>287.231672</td>\n",
       "      <td>307.391513</td>\n",
       "      <td>304.281841</td>\n",
       "      <td>310.411538</td>\n",
       "      <td>304.4</td>\n",
       "      <td>304.4</td>\n",
       "      <td>303.5</td>\n",
       "    </tr>\n",
       "    <tr>\n",
       "      <th>4</th>\n",
       "      <td>2012-10-01 16:00:00</td>\n",
       "      <td>284.624955</td>\n",
       "      <td>282.100481</td>\n",
       "      <td>289.446243</td>\n",
       "      <td>281.782449</td>\n",
       "      <td>291.857503</td>\n",
       "      <td>291.553209</td>\n",
       "      <td>293.381213</td>\n",
       "      <td>296.654466</td>\n",
       "      <td>285.313345</td>\n",
       "      <td>...</td>\n",
       "      <td>285.850440</td>\n",
       "      <td>288.406203</td>\n",
       "      <td>285.860929</td>\n",
       "      <td>287.277251</td>\n",
       "      <td>307.145200</td>\n",
       "      <td>304.238015</td>\n",
       "      <td>310.327308</td>\n",
       "      <td>304.4</td>\n",
       "      <td>304.4</td>\n",
       "      <td>303.5</td>\n",
       "    </tr>\n",
       "  </tbody>\n",
       "</table>\n",
       "<p>5 rows × 37 columns</p>\n",
       "</div>"
      ],
      "text/plain": [
       "              datetime   Vancouver    Portland  San Francisco     Seattle  \\\n",
       "0  2012-10-01 12:00:00         NaN         NaN            NaN         NaN   \n",
       "1  2012-10-01 13:00:00  284.630000  282.080000     289.480000  281.800000   \n",
       "2  2012-10-01 14:00:00  284.629041  282.083252     289.474993  281.797217   \n",
       "3  2012-10-01 15:00:00  284.626998  282.091866     289.460618  281.789833   \n",
       "4  2012-10-01 16:00:00  284.624955  282.100481     289.446243  281.782449   \n",
       "\n",
       "   Los Angeles   San Diego   Las Vegas     Phoenix  Albuquerque  ...  \\\n",
       "0          NaN         NaN         NaN         NaN          NaN  ...   \n",
       "1   291.870000  291.530000  293.410000  296.600000   285.120000  ...   \n",
       "2   291.868186  291.533501  293.403141  296.608509   285.154558  ...   \n",
       "3   291.862844  291.543355  293.392177  296.631487   285.233952  ...   \n",
       "4   291.857503  291.553209  293.381213  296.654466   285.313345  ...   \n",
       "\n",
       "   Philadelphia    New York    Montreal      Boston   Beersheba  \\\n",
       "0           NaN         NaN         NaN         NaN         NaN   \n",
       "1    285.630000  288.220000  285.830000  287.170000  307.590000   \n",
       "2    285.663208  288.247676  285.834650  287.186092  307.590000   \n",
       "3    285.756824  288.326940  285.847790  287.231672  307.391513   \n",
       "4    285.850440  288.406203  285.860929  287.277251  307.145200   \n",
       "\n",
       "   Tel Aviv District       Eilat  Haifa  Nahariyya  Jerusalem  \n",
       "0                NaN  309.100000    NaN        NaN        NaN  \n",
       "1         305.470000  310.580000  304.4      304.4      303.5  \n",
       "2         304.310000  310.495769  304.4      304.4      303.5  \n",
       "3         304.281841  310.411538  304.4      304.4      303.5  \n",
       "4         304.238015  310.327308  304.4      304.4      303.5  \n",
       "\n",
       "[5 rows x 37 columns]"
      ]
     },
     "execution_count": 20,
     "metadata": {},
     "output_type": "execute_result"
    }
   ],
   "source": [
    "df.head()"
   ]
  },
  {
   "cell_type": "code",
   "execution_count": 5,
   "metadata": {},
   "outputs": [
    {
     "data": {
      "text/plain": [
       "(45253, 37)"
      ]
     },
     "execution_count": 5,
     "metadata": {},
     "output_type": "execute_result"
    }
   ],
   "source": [
    "df.shape"
   ]
  },
  {
   "cell_type": "code",
   "execution_count": 8,
   "metadata": {},
   "outputs": [
    {
     "name": "stderr",
     "output_type": "stream",
     "text": [
      "C:\\Users\\bishw\\Anaconda3\\lib\\site-packages\\numpy\\lib\\histograms.py:824: RuntimeWarning: invalid value encountered in greater_equal\n",
      "  keep = (tmp_a >= first_edge)\n",
      "C:\\Users\\bishw\\Anaconda3\\lib\\site-packages\\numpy\\lib\\histograms.py:825: RuntimeWarning: invalid value encountered in less_equal\n",
      "  keep &= (tmp_a <= last_edge)\n"
     ]
    },
    {
     "data": {
      "text/plain": [
       "Text(0.5, 1.0, 'Temperature Histogram for San Diego')"
      ]
     },
     "execution_count": 8,
     "metadata": {},
     "output_type": "execute_result"
    },
    {
     "data": {
      "image/png": "[encoded data removed]",
      "text/plain": [
       "<Figure size 432x288 with 1 Axes>"
      ]
     },
     "metadata": {
      "needs_background": "light"
     },
     "output_type": "display_data"
    }
   ],
   "source": [
    "plt.hist(df['San Diego'], bins = 100)\n",
    "plt.xlabel('Temperature')\n",
    "plt.ylabel('Number of Occurences')\n",
    "plt.title('Temperature Histogram for San Diego')"
   ]
  },
  {
   "cell_type": "code",
   "execution_count": 41,
   "metadata": {},
   "outputs": [
    {
     "name": "stdout",
     "output_type": "stream",
     "text": [
      "population mean =  290.21504416532485\n"
     ]
    }
   ],
   "source": [
    "u = df['San Diego'].mean()\n",
    "print('population mean = ', u)"
   ]
  },
  {
   "cell_type": "code",
   "execution_count": 70,
   "metadata": {},
   "outputs": [
    {
     "name": "stdout",
     "output_type": "stream",
     "text": [
      "population variance = 34.69124106330662\n"
     ]
    }
   ],
   "source": [
    "s2p = np.var(df['San Diego'])\n",
    "print('population variance =',s2)"
   ]
  },
  {
   "cell_type": "code",
   "execution_count": 22,
   "metadata": {},
   "outputs": [],
   "source": [
    "f13 = (df['datetime']>= '2013-02-01 00:00:00')&(df['datetime']<'2013-03-01 00:00:00')"
   ]
  },
  {
   "cell_type": "code",
   "execution_count": 25,
   "metadata": {},
   "outputs": [
    {
     "data": {
      "text/html": [
       "<div>\n",
       "<style scoped>\n",
       "    .dataframe tbody tr th:only-of-type {\n",
       "        vertical-align: middle;\n",
       "    }\n",
       "\n",
       "    .dataframe tbody tr th {\n",
       "        vertical-align: top;\n",
       "    }\n",
       "\n",
       "    .dataframe thead th {\n",
       "        text-align: right;\n",
       "    }\n",
       "</style>\n",
       "<table border=\"1\" class=\"dataframe\">\n",
       "  <thead>\n",
       "    <tr style=\"text-align: right;\">\n",
       "      <th></th>\n",
       "      <th>datetime</th>\n",
       "      <th>Vancouver</th>\n",
       "      <th>Portland</th>\n",
       "      <th>San Francisco</th>\n",
       "      <th>Seattle</th>\n",
       "      <th>Los Angeles</th>\n",
       "      <th>San Diego</th>\n",
       "      <th>Las Vegas</th>\n",
       "      <th>Phoenix</th>\n",
       "      <th>Albuquerque</th>\n",
       "      <th>...</th>\n",
       "      <th>Philadelphia</th>\n",
       "      <th>New York</th>\n",
       "      <th>Montreal</th>\n",
       "      <th>Boston</th>\n",
       "      <th>Beersheba</th>\n",
       "      <th>Tel Aviv District</th>\n",
       "      <th>Eilat</th>\n",
       "      <th>Haifa</th>\n",
       "      <th>Nahariyya</th>\n",
       "      <th>Jerusalem</th>\n",
       "    </tr>\n",
       "  </thead>\n",
       "  <tbody>\n",
       "    <tr>\n",
       "      <th>2940</th>\n",
       "      <td>2013-02-01 00:00:00</td>\n",
       "      <td>278.82</td>\n",
       "      <td>282.12</td>\n",
       "      <td>288.34</td>\n",
       "      <td>281.68</td>\n",
       "      <td>289.66</td>\n",
       "      <td>289.83</td>\n",
       "      <td>287.20</td>\n",
       "      <td>287.61</td>\n",
       "      <td>277.15</td>\n",
       "      <td>...</td>\n",
       "      <td>288.43</td>\n",
       "      <td>285.15</td>\n",
       "      <td>275.15</td>\n",
       "      <td>283.71</td>\n",
       "      <td>280.19</td>\n",
       "      <td>283.15</td>\n",
       "      <td>288.150</td>\n",
       "      <td>285.15</td>\n",
       "      <td>285.15</td>\n",
       "      <td>281.45</td>\n",
       "    </tr>\n",
       "    <tr>\n",
       "      <th>2941</th>\n",
       "      <td>2013-02-01 01:00:00</td>\n",
       "      <td>278.56</td>\n",
       "      <td>282.18</td>\n",
       "      <td>288.09</td>\n",
       "      <td>281.55</td>\n",
       "      <td>289.50</td>\n",
       "      <td>289.15</td>\n",
       "      <td>286.42</td>\n",
       "      <td>285.74</td>\n",
       "      <td>276.15</td>\n",
       "      <td>...</td>\n",
       "      <td>288.43</td>\n",
       "      <td>285.15</td>\n",
       "      <td>278.85</td>\n",
       "      <td>283.71</td>\n",
       "      <td>280.19</td>\n",
       "      <td>283.15</td>\n",
       "      <td>283.860</td>\n",
       "      <td>285.15</td>\n",
       "      <td>285.15</td>\n",
       "      <td>281.45</td>\n",
       "    </tr>\n",
       "    <tr>\n",
       "      <th>2942</th>\n",
       "      <td>2013-02-01 02:00:00</td>\n",
       "      <td>278.52</td>\n",
       "      <td>282.01</td>\n",
       "      <td>285.44</td>\n",
       "      <td>281.55</td>\n",
       "      <td>287.57</td>\n",
       "      <td>287.80</td>\n",
       "      <td>284.05</td>\n",
       "      <td>284.60</td>\n",
       "      <td>276.15</td>\n",
       "      <td>...</td>\n",
       "      <td>288.43</td>\n",
       "      <td>285.15</td>\n",
       "      <td>278.85</td>\n",
       "      <td>283.71</td>\n",
       "      <td>280.19</td>\n",
       "      <td>283.15</td>\n",
       "      <td>279.570</td>\n",
       "      <td>285.15</td>\n",
       "      <td>285.15</td>\n",
       "      <td>281.45</td>\n",
       "    </tr>\n",
       "    <tr>\n",
       "      <th>2943</th>\n",
       "      <td>2013-02-01 03:00:00</td>\n",
       "      <td>278.56</td>\n",
       "      <td>282.07</td>\n",
       "      <td>284.35</td>\n",
       "      <td>281.46</td>\n",
       "      <td>287.23</td>\n",
       "      <td>286.71</td>\n",
       "      <td>283.10</td>\n",
       "      <td>283.40</td>\n",
       "      <td>273.18</td>\n",
       "      <td>...</td>\n",
       "      <td>280.34</td>\n",
       "      <td>283.13</td>\n",
       "      <td>277.19</td>\n",
       "      <td>284.99</td>\n",
       "      <td>280.77</td>\n",
       "      <td>282.15</td>\n",
       "      <td>288.150</td>\n",
       "      <td>285.13</td>\n",
       "      <td>285.13</td>\n",
       "      <td>282.62</td>\n",
       "    </tr>\n",
       "    <tr>\n",
       "      <th>2944</th>\n",
       "      <td>2013-02-01 04:00:00</td>\n",
       "      <td>278.33</td>\n",
       "      <td>281.66</td>\n",
       "      <td>282.94</td>\n",
       "      <td>281.55</td>\n",
       "      <td>286.08</td>\n",
       "      <td>285.79</td>\n",
       "      <td>282.14</td>\n",
       "      <td>282.15</td>\n",
       "      <td>270.21</td>\n",
       "      <td>...</td>\n",
       "      <td>280.34</td>\n",
       "      <td>283.13</td>\n",
       "      <td>275.15</td>\n",
       "      <td>284.99</td>\n",
       "      <td>280.77</td>\n",
       "      <td>282.83</td>\n",
       "      <td>280.856</td>\n",
       "      <td>285.13</td>\n",
       "      <td>285.13</td>\n",
       "      <td>282.62</td>\n",
       "    </tr>\n",
       "  </tbody>\n",
       "</table>\n",
       "<p>5 rows × 37 columns</p>\n",
       "</div>"
      ],
      "text/plain": [
       "                 datetime  Vancouver  Portland  San Francisco  Seattle  \\\n",
       "2940  2013-02-01 00:00:00     278.82    282.12         288.34   281.68   \n",
       "2941  2013-02-01 01:00:00     278.56    282.18         288.09   281.55   \n",
       "2942  2013-02-01 02:00:00     278.52    282.01         285.44   281.55   \n",
       "2943  2013-02-01 03:00:00     278.56    282.07         284.35   281.46   \n",
       "2944  2013-02-01 04:00:00     278.33    281.66         282.94   281.55   \n",
       "\n",
       "      Los Angeles  San Diego  Las Vegas  Phoenix  Albuquerque  ...  \\\n",
       "2940       289.66     289.83     287.20   287.61       277.15  ...   \n",
       "2941       289.50     289.15     286.42   285.74       276.15  ...   \n",
       "2942       287.57     287.80     284.05   284.60       276.15  ...   \n",
       "2943       287.23     286.71     283.10   283.40       273.18  ...   \n",
       "2944       286.08     285.79     282.14   282.15       270.21  ...   \n",
       "\n",
       "      Philadelphia  New York  Montreal  Boston  Beersheba  Tel Aviv District  \\\n",
       "2940        288.43    285.15    275.15  283.71     280.19             283.15   \n",
       "2941        288.43    285.15    278.85  283.71     280.19             283.15   \n",
       "2942        288.43    285.15    278.85  283.71     280.19             283.15   \n",
       "2943        280.34    283.13    277.19  284.99     280.77             282.15   \n",
       "2944        280.34    283.13    275.15  284.99     280.77             282.83   \n",
       "\n",
       "        Eilat   Haifa  Nahariyya  Jerusalem  \n",
       "2940  288.150  285.15     285.15     281.45  \n",
       "2941  283.860  285.15     285.15     281.45  \n",
       "2942  279.570  285.15     285.15     281.45  \n",
       "2943  288.150  285.13     285.13     282.62  \n",
       "2944  280.856  285.13     285.13     282.62  \n",
       "\n",
       "[5 rows x 37 columns]"
      ]
     },
     "execution_count": 25,
     "metadata": {},
     "output_type": "execute_result"
    }
   ],
   "source": [
    "df13f = df[f13]\n",
    "df13f.head()"
   ]
  },
  {
   "cell_type": "code",
   "execution_count": 52,
   "metadata": {},
   "outputs": [
    {
     "name": "stdout",
     "output_type": "stream",
     "text": [
      "672\n"
     ]
    }
   ],
   "source": [
    "df13f.head()\n",
    "n = df13f.shape[0]\n",
    "print(n)"
   ]
  },
  {
   "cell_type": "code",
   "execution_count": 71,
   "metadata": {},
   "outputs": [
    {
     "name": "stdout",
     "output_type": "stream",
     "text": [
      "sample mean = 285.24695012400906\n",
      "sample variance =  15.816372521227404\n"
     ]
    }
   ],
   "source": [
    "xbar = np.mean(df13f['San Diego'])\n",
    "print('sample mean =', xbar)\n",
    "s2s = np.var(df13f['San Diego'])\n",
    "print('sample variance = ', s2s)"
   ]
  },
  {
   "cell_type": "code",
   "execution_count": 31,
   "metadata": {},
   "outputs": [],
   "source": [
    "# ***** ALTERNATIVE  ****\n",
    "#import numpy as np\n",
    "#import pandas as pd\n",
    "\n",
    "#df = pd.read_csv('./temperature.csv')\n",
    "#df = df[ df['datetime'].str.contains('2013-02')]\n",
    "#df = df.loc[:, ['San Diego']]\n",
    "\n",
    "#temperature = df.values\n",
    "#temperature = temperature[~np.isnan(temperature)]\n",
    "\n",
    "#mu = np.mean(temperature)\n",
    "\n",
    "#print('The sample mean in February 2013 is {}'.format(mu))"
   ]
  },
  {
   "cell_type": "code",
   "execution_count": 47,
   "metadata": {},
   "outputs": [
    {
     "name": "stdout",
     "output_type": "stream",
     "text": [
      "population standard deviaiton =  5.889927084719014\n"
     ]
    }
   ],
   "source": [
    "sig = math.sqrt(s2)\n",
    "print('population standard deviaiton = ', sig)"
   ]
  },
  {
   "cell_type": "code",
   "execution_count": 75,
   "metadata": {},
   "outputs": [
    {
     "name": "stdout",
     "output_type": "stream",
     "text": [
      "critical zp =  1.6448536269514722\n",
      "margin of error = 0.37372533397918056\n",
      "lower bound =  284.8732247900299\n",
      "upper bound =  285.6206754579882\n"
     ]
    }
   ],
   "source": [
    "p = 0.90\n",
    "zp = st.norm.ppf((1+p)/2)\n",
    "print('critical zp = ', zp)\n",
    "me_z = zp*sig/math.sqrt(n)\n",
    "print('margin of error =', me_z)\n",
    "lb_z = xbar - me_z\n",
    "ub_z = xbar + me_z\n",
    "print('lower bound = ', lb_z)\n",
    "print('upper bound = ', ub_z)"
   ]
  },
  {
   "cell_type": "code",
   "execution_count": null,
   "metadata": {},
   "outputs": [],
   "source": [
    "# ****** ALTERNATIVE - Z STAT *********\n",
    "import numpy as np\n",
    "import pandas as pd\n",
    "import matplotlib.pyplot as plt\n",
    "from scipy.stats import norm\n",
    "\n",
    "df = pd.read_csv('./temperature.csv')\n",
    "df1 = df[ df['datetime'].str.contains('2013-02')]\n",
    "df = df.loc[:, ['San Diego']]\n",
    "df1 = df1.loc[:, ['San Diego']]\n",
    "\n",
    "temperature = df1.values\n",
    "temperature = temperature[~np.isnan(temperature)]\n",
    "all_temperature = df.values\n",
    "all_temperature = all_temperature[~np.isnan(all_temperature)]\n",
    "\n",
    "n = len(temperature)\n",
    "mu = np.mean(temperature)\n",
    "s_all = np.std(all_temperature, ddof=1)\n",
    "\n",
    "z_s = norm.ppf(0.95)\n",
    "z_upper = s_all / (n ** 0.5) * z_s + mu\n",
    "z_lower = -s_all / (n ** 0.5) * z_s + mu\n",
    "\n",
    "print('The upper bound of z-test is {}'.format(z_upper))\n",
    "print('The lower bound of z-test is {}'.format(z_lower))"
   ]
  },
  {
   "cell_type": "code",
   "execution_count": 74,
   "metadata": {},
   "outputs": [
    {
     "name": "stdout",
     "output_type": "stream",
     "text": [
      "t_p,n-1 =  2.015\n",
      "Basel Corrected Sample Variance S2 = 15.83994386626649\n",
      "margin of error - t stat =  0.30936218969248197\n",
      "lower bound t stat =  284.9375879343166\n",
      "upper bound t stat =  285.55631231370154\n"
     ]
    }
   ],
   "source": [
    "t_p = 2.015  #use t_p = scipy.stat.t.ppf((1+p)/2 = 0.95, n-1)\n",
    "print('t_p,n-1 = ', t_p)\n",
    "s2_bc = s2s*n/(n-1)\n",
    "print('Basel Corrected Sample Variance S2 =', s2_bc)\n",
    "me_t = t_p*math.sqrt(s2_bc/n)\n",
    "print('margin of error - t stat = ', me_t)\n",
    "lb_t = xbar - me_t\n",
    "ub_t = xbar + me_t\n",
    "print('lower bound t stat = ', lb_t)\n",
    "print('upper bound t stat = ', ub_t)"
   ]
  },
  {
   "cell_type": "code",
   "execution_count": null,
   "metadata": {},
   "outputs": [],
   "source": [
    "# ALTERNATIVE *** T STAT***\n",
    "import numpy as np\n",
    "import pandas as pd\n",
    "import matplotlib.pyplot as plt\n",
    "from scipy.stats import t\n",
    "\n",
    "df = pd.read_csv('./temperature.csv')\n",
    "df1 = df[ df['datetime'].str.contains('2013-02')]\n",
    "df = df.loc[:, ['San Diego']]\n",
    "df1 = df1.loc[:, ['San Diego']]\n",
    "\n",
    "temperature = df1.values\n",
    "temperature = temperature[~np.isnan(temperature)]\n",
    "all_temperature = df.values\n",
    "all_temperature = all_temperature[~np.isnan(all_temperature)]\n",
    "\n",
    "n = len(temperature)\n",
    "mu = np.mean(temperature)\n",
    "s = np.std(temperature, ddof=1)\n",
    "\n",
    "t_s = t.ppf(0.95, n - 1)\n",
    "t_upper = s / (n ** 0.5) * t_s + mu\n",
    "t_lower = -s / (n ** 0.5) * t_s + mu\n",
    "\n",
    "print('The upper bound of t-test is {}'.format(t_upper))\n",
    "print('The lower bound of t-test is {}'.format(t_lower))"
   ]
  }
 ],
 "metadata": {
  "kernelspec": {
   "display_name": "Python 3",
   "language": "python",
   "name": "python3"
  },
  "language_info": {
   "codemirror_mode": {
    "name": "ipython",
    "version": 3
   },
   "file_extension": ".py",
   "mimetype": "text/x-python",
   "name": "python",
   "nbconvert_exporter": "python",
   "pygments_lexer": "ipython3",
   "version": "3.7.3"
  }
 },
 "nbformat": 4,
 "nbformat_minor": 2
}
